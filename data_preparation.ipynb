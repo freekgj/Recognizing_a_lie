{
 "cells": [
  {
   "cell_type": "code",
   "execution_count": null,
   "id": "64e538b6",
   "metadata": {},
   "outputs": [],
   "source": [
    "try:\n",
    "    print(moviepy.__version)\n",
    "except:\n",
    "    from moviepy.editor import *\n",
    "    import sys\n",
    "    !{sys.executable} -m pip install moviepy\n",
    "    !{sys.executable} -m pip install --upgrade moviepy"
   ]
  },
  {
   "cell_type": "code",
   "execution_count": null,
   "id": "a75b3c08",
   "metadata": {},
   "outputs": [],
   "source": [
    "import cv2\n",
    "import os\n",
    "import shutil\n",
    "import pandas as pd\n",
    "import numpy as np"
   ]
  },
  {
   "cell_type": "code",
   "execution_count": null,
   "id": "66122847",
   "metadata": {},
   "outputs": [],
   "source": [
    "path_original_vids = 'Data/Original_data'\n",
    "path_cutted_vids = 'Data/Cutted_videos_data'\n",
    "path_pictures = 'Data/Picture_data'"
   ]
  },
  {
   "cell_type": "code",
   "execution_count": null,
   "id": "3de5e01e",
   "metadata": {},
   "outputs": [],
   "source": [
    "def make_data_folders(path_cutted_vids, path_pictures):\n",
    "    \"\"\"Deletes Picture_data directory if existig. Then create Picture_data directory.\n",
    "    \n",
    "    @type path_to: str\n",
    "    @params path_to: Name of directorypath where data will be stored after manipulating.\n",
    "    \"\"\"\n",
    "    try:\n",
    "        shutil.rmtree(f'{path_cutted_vids}'), shutil.rmtree(f'{path_pictures}')\n",
    "\n",
    "    except:\n",
    "        pass\n",
    "    \n",
    "    os.mkdir(f'{path_cutted_vids}')\n",
    "    os.mkdir(f'{path_pictures}')\n",
    "\n",
    "    os.mkdir(f\"{path_pictures}/PT\")\n",
    "    os.mkdir(f\"{path_pictures}/NT\")\n",
    "    os.mkdir(f\"{path_pictures}/PL\")\n",
    "    os.mkdir(f\"{path_pictures}/NL\")"
   ]
  },
  {
   "cell_type": "code",
   "execution_count": null,
   "id": "5e2d6a1d",
   "metadata": {},
   "outputs": [],
   "source": [
    "def crop_center(img, crop_x=300, crop_y=350):\n",
    "    \"\"\"Crops x and y from center.\n",
    "    \n",
    "    @type img: numpy.ndarray\n",
    "    @param img: picture of subject\n",
    "    @type crop_x: int\n",
    "    @param crop_x: the width of the cropped picture\n",
    "    @type crop_y: int\n",
    "    @param crop_y: the height of the cropped picture\n",
    "    \"\"\"\n",
    "    y,x,_ = img.shape\n",
    "    start_x = x // 2 - crop_x//2\n",
    "    start_y = y // 2 - crop_y//2\n",
    "    return img[start_y:start_y+crop_y, start_x:start_x+crop_x, :]"
   ]
  },
  {
   "cell_type": "code",
   "execution_count": null,
   "id": "e8ad193a",
   "metadata": {},
   "outputs": [],
   "source": [
    "def get_video_samples(path_original_vids, path_cutted_vids): \n",
    "    \"\"\" Cuts the video's based on given start and endtime out of an excel file.\n",
    "    \n",
    "    @type path_original: str\n",
    "    @param path_original: The path where all original videofiles are stored.\n",
    "    @type path_cutted_vids: str\n",
    "    @param path_cutted_vids: The path where all cutted videofiles will be stored.\n",
    "    \"\"\"\n",
    "    df = pd.read_excel(r'Data/start_end_times_sample.xlsx')\n",
    "    df['Name'] = df['Name']+df['Truth/Lie']\n",
    "    df.drop('Truth/Lie', axis=1, inplace=True)\n",
    "    \n",
    "    print('getting names and time from xlsx file....')\n",
    "    get_vid_sample = lambda row :[row[0]] + [(begin_time,end_time) for begin_time, end_time in zip(row[1::2],row[2::2])]\n",
    "    movie_name_and_times = [get_vid_sample(row) for _, row in df.iterrows()]\n",
    "    print('names and times gatherd')\n",
    "    \n",
    "    print('start loading in VideoFileClips')\n",
    "    videos = [VideoFileClip(f'{path_original_vids}/{row[0]}.wmv') for row in movie_name_and_times]\n",
    "    print('videos ready for converting')\n",
    "    \n",
    "    print('cutting the videos')\n",
    "    cut_vid = lambda vid, begin, end : vid.subclip(int(begin), int(end))\n",
    "    cutted_clips = [(times[0], cut_vid(video, time_x[0], time_x[1])) for video, times in zip(videos, movie_name_and_times) for time_x in times[1:] if not pd.isnull(time_x[0])]\n",
    "    [cutted_clip[1].to_videofile(f'{path_cutted_vids}/{cutted_clip[0]}{index}.mp4', codec='libx264', temp_audiofile=f'Data/{cutted_clip[0]}{index}TEMP_MPY_wvf_snd.mp3', remove_temp=True) for index, cutted_clip in enumerate(cutted_clips)]\n",
    "    print('Done!')"
   ]
  },
  {
   "cell_type": "code",
   "execution_count": null,
   "id": "dd4975b8",
   "metadata": {},
   "outputs": [],
   "source": [
    "def convert_video_picture(path_cutted_vids, path_pictures):\n",
    "    \"\"\"\n",
    "    Converting video's into pictures and stores them.\n",
    "    \n",
    "    @type path_from: str\n",
    "    @params path_from: Name of directorypath where data will be fetched from.\n",
    "    @type path_to: str\n",
    "    @params path_to: Name of directorypath where data will be stored after manipulating.\n",
    "    \n",
    "    \"\"\"\n",
    "    for file in os.listdir(f\"{path_from}\"):\n",
    "        video_samp = cv2.VideoCapture(f\"{path_from}/{file}\")\n",
    "        succes, image = video_samp.read()\n",
    "        count = 0\n",
    "        while succes:\n",
    "            cropped_img = crop_center(image)print('getting names and time from xlsx file....')\n",
    "            cv2.imwrite(f\"{path_to}/{file[7:9]}/{file[:5]}frame{count}.jpg\", cropped_img)\n",
    "            succes, image = video_samp.read()\n",
    "            count+=1"
   ]
  },
  {
   "cell_type": "code",
   "execution_count": null,
   "id": "ed579455",
   "metadata": {},
   "outputs": [],
   "source": [
    "make_data_folders(path_cutted_vids, path_pictures)\n",
    "get_video_samples(path_original_vids, path_cutted_vids)\n",
    "convert_video_picture(path_cutted_vids, path_pictures)"
   ]
  },
  {
   "cell_type": "code",
   "execution_count": null,
   "id": "3b034aac",
   "metadata": {},
   "outputs": [],
   "source": [
    "def get_video_samples_iterative():     \n",
    "    df = pd.read_excel(r'Data/start_end_times_sample.xlsx')\n",
    "\n",
    "    df['Name'] = df['Name']+df['Truth/Lie']\n",
    "    df.drop('Truth/Lie', axis=1, inplace=True)  \n",
    "    \n",
    "    get_vid_sample = lambda row :[row[0]] + [(begin_time,end_time) for begin_time, end_time in zip(row[1::2],row[2::2])]\n",
    "    \n",
    "    for _ , row in df.iterrows():\n",
    "        get_vid_samp_times = get_vid_sample(row)\n",
    "        index = 0\n",
    "        \n",
    "        for video_times in get_vid_samp_times[1:]:\n",
    "            if not pd.isnull(video_times[0]):\n",
    "                \n",
    "                clip = VideoFileClip(f'{path_from}/{get_vid_samp_times[0]}.wmv')\n",
    "                clip = clip.cutout(video_times[0],video_times[1])\n",
    "                temp_audio_file = f'Data/{get_vid_samp_times[0]}{index}TEMP_MPY_wvf_snd.mp3'\n",
    "                clip.to_videofile(f'./Data/{get_vid_samp_times[0]}{index}.mp4', codec='libx264', temp_audiofile=temp_audio_file, remove_temp=True)\n",
    "                index+=1"
   ]
  }
 ],
 "metadata": {
  "kernelspec": {
   "display_name": "Python 3 (ipykernel)",
   "language": "python",
   "name": "python3"
  },
  "language_info": {
   "codemirror_mode": {
    "name": "ipython",
    "version": 3
   },
   "file_extension": ".py",
   "mimetype": "text/x-python",
   "name": "python",
   "nbconvert_exporter": "python",
   "pygments_lexer": "ipython3",
   "version": "3.8.11"
  }
 },
 "nbformat": 4,
 "nbformat_minor": 5
}
