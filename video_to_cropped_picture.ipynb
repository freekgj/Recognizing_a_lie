{
 "cells": [
  {
   "cell_type": "code",
   "execution_count": null,
   "id": "a75b3c08",
   "metadata": {},
   "outputs": [],
   "source": [
    "import cv2\n",
    "import os\n",
    "import shutil"
   ]
  },
  {
   "cell_type": "code",
   "execution_count": null,
   "id": "66122847",
   "metadata": {},
   "outputs": [],
   "source": [
    "path_from = 'Data/Original_data'\n",
    "path_to = 'Data/Picture_data'"
   ]
  },
  {
   "cell_type": "code",
   "execution_count": null,
   "id": "3de5e01e",
   "metadata": {},
   "outputs": [],
   "source": [
    "def make_picturedata_folder(path_to):\n",
    "    \"\"\"Deletes Picture_data directory if existig. Then create Picture_data directory.\n",
    "    \n",
    "    @type path_to: str\n",
    "    @params path_to: Name of directorypath where data will be stored after manipulating.\n",
    "    \"\"\"\n",
    "    shutil.rmtree(f'{path_to}')\n",
    "    os.mkdir(f'{path_to}')\n",
    "\n",
    "    os.mkdir(f\"{path_to}/PT\")\n",
    "    os.mkdir(f\"{path_to}/NT\")\n",
    "    os.mkdir(f\"{path_to}/PL\")\n",
    "    os.mkdir(f\"{path_to}/NL\")"
   ]
  },
  {
   "cell_type": "code",
   "execution_count": null,
   "id": "5e2d6a1d",
   "metadata": {},
   "outputs": [],
   "source": [
    "def crop_center(img, crop_x=300, crop_y=350):\n",
    "    \"\"\"Crops x and y from center.\n",
    "    \n",
    "    @type img: numpy.ndarray\n",
    "    @param img: picture of subject\n",
    "    @type crop_x: int\n",
    "    @param crop_x: the width of the cropped picture\n",
    "    @type crop_y: int\n",
    "    @param crop_y: the height of the cropped picture\n",
    "    \"\"\"\n",
    "    y,x,_ = img.shape\n",
    "    start_x = x // 2 - crop_x//2\n",
    "    start_y = y // 2 - crop_y//2\n",
    "    return img[start_y:start_y+crop_y, start_x:start_x+crop_x, :]"
   ]
  },
  {
   "cell_type": "code",
   "execution_count": null,
   "id": "dd4975b8",
   "metadata": {},
   "outputs": [],
   "source": [
    "def convert_video_picture(path_from, path_to):\n",
    "    \"\"\"\n",
    "    Converting video's into pictures and stores them.\n",
    "    \n",
    "    @type path_from: str\n",
    "    @params path_from: Name of directorypath where data will be fetched from.\n",
    "    @type path_to: str\n",
    "    @params path_to: Name of directorypath where data will be stored after manipulating.\n",
    "    \n",
    "    \"\"\"\n",
    "    for file in os.listdir(f\"{path_from}\"):\n",
    "        video_samp = cv2.VideoCapture(f\"{path_from}/{file}\")\n",
    "        succes, image = video_samp.read()\n",
    "        count = 0\n",
    "        while succes:\n",
    "            cropped_img = crop_center(image)\n",
    "            cv2.imwrite(f\"{path_to}/{file[-6:-4]}/BF{file[2:5]}frame{count}.jpg\", cropped_img)\n",
    "            succes, image = video_samp.read()\n",
    "            count+=1"
   ]
  },
  {
   "cell_type": "code",
   "execution_count": null,
   "id": "ed579455",
   "metadata": {
    "scrolled": true
   },
   "outputs": [],
   "source": [
    "make_picturedata_folder(path_to)"
   ]
  },
  {
   "cell_type": "code",
   "execution_count": null,
   "id": "1b727324",
   "metadata": {},
   "outputs": [],
   "source": [
    "convert_video_picture(path_from, path_to)"
   ]
  }
 ],
 "metadata": {
  "kernelspec": {
   "display_name": "Python 3 (ipykernel)",
   "language": "python",
   "name": "python3"
  },
  "language_info": {
   "codemirror_mode": {
    "name": "ipython",
    "version": 3
   },
   "file_extension": ".py",
   "mimetype": "text/x-python",
   "name": "python",
   "nbconvert_exporter": "python",
   "pygments_lexer": "ipython3",
   "version": "3.8.11"
  }
 },
 "nbformat": 4,
 "nbformat_minor": 5
}
