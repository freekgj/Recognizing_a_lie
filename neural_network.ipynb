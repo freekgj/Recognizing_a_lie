{
 "cells": [
  {
   "cell_type": "code",
   "execution_count": null,
   "id": "ffc7c803",
   "metadata": {},
   "outputs": [],
   "source": [
    "import cv2\n",
    "import glob\n",
    "import matplotlib.pyplot as plt\n",
    "\n",
    "import tensorflow as tf\n",
    "\n",
    "from keras import optimizers\n",
    "from tensorflow.keras import layers, models\n",
    "from tensorflow.keras.preprocessing.image import ImageDataGenerator"
   ]
  },
  {
   "cell_type": "code",
   "execution_count": null,
   "id": "88b05e08",
   "metadata": {},
   "outputs": [],
   "source": [
    "# Get info of image\n",
    "image_path = glob.glob('./Data/Picture_data/PT/' + '*jpg')[0]\n",
    "image = cv2.imread(image_path)\n",
    "img_height, img_weight, _ = image.shape\n",
    "batch_size = 16"
   ]
  },
  {
   "cell_type": "code",
   "execution_count": null,
   "id": "a754b903",
   "metadata": {},
   "outputs": [],
   "source": [
    "# Turn trainingsdataset into tensorflowdataset\n",
    "train_images = tf.keras.preprocessing.image_dataset_from_directory(\n",
    "directory='Data/Picture_data/', \n",
    "labels='inferred', \n",
    "label_mode = 'categorical',\n",
    "color_mode='rgb',\n",
    "batch_size=batch_size, \n",
    "image_size = (img_height, img_weight),\n",
    "shuffle=True, \n",
    "validation_split=0.2,\n",
    "seed = 123,\n",
    "subset=\"training\"\n",
    ")"
   ]
  },
  {
   "cell_type": "code",
   "execution_count": null,
   "id": "9a88b853",
   "metadata": {},
   "outputs": [],
   "source": [
    "# Turn validationdataset into tensorflowdataset\n",
    "validation_images = tf.keras.preprocessing.image_dataset_from_directory(\n",
    "directory='Data/Picture_data/', \n",
    "labels='inferred', \n",
    "label_mode = 'categorical',\n",
    "color_mode='rgb',\n",
    "batch_size=2, \n",
    "image_size = (img_height, img_weight),\n",
    "shuffle=True, \n",
    "validation_split=0.1,\n",
    "seed = 123,\n",
    "subset=\"validation\"\n",
    ")"
   ]
  },
  {
   "cell_type": "code",
   "execution_count": null,
   "id": "07a101f3",
   "metadata": {},
   "outputs": [],
   "source": [
    "# Normalize all data\n",
    "def normalize(image, label):\n",
    "    image = tf.cast(image/255, tf.float32)\n",
    "    return image, label\n",
    "\n",
    "train_images = train_images.map(normalize)\n",
    "validation_images = validation_images.map(normalize)"
   ]
  },
  {
   "cell_type": "code",
   "execution_count": null,
   "id": "efd8453f",
   "metadata": {},
   "outputs": [],
   "source": [
    "# Define model\n",
    "\n",
    "model = models.Sequential()\n",
    "model.add(layers.Conv2D(filters=64, kernel_size=3, input_shape=(img_height, img_weight, 3)))\n",
    "model.add(layers.MaxPool2D((2, 2)))\n",
    "model.add(layers.Conv2D(64, (3,3), activation='relu'))\n",
    "model.add(layers.MaxPool2D((2, 2)))\n",
    "model.add(layers.Conv2D(64, (3,3), activation='relu'))\n",
    "model.add(layers.Flatten())\n",
    "model.add(layers.Dense(64, activation='relu'))\n",
    "model.add(layers.Dense(4, activation='softmax'))"
   ]
  },
  {
   "cell_type": "code",
   "execution_count": null,
   "id": "56717b12",
   "metadata": {},
   "outputs": [],
   "source": [
    "# Summary of model\n",
    "model.summary()"
   ]
  },
  {
   "cell_type": "code",
   "execution_count": null,
   "id": "404e5959",
   "metadata": {},
   "outputs": [],
   "source": [
    "model.compile(optimizer = 'adam',\n",
    "              loss = 'categorical_crossentropy',\n",
    "              metrics=['accuracy'])"
   ]
  },
  {
   "cell_type": "code",
   "execution_count": null,
   "id": "ce0a285a",
   "metadata": {},
   "outputs": [],
   "source": [
    "# Fit the model\n",
    "history = model.fit(train_images, validation_data=validation_images, epochs=1)"
   ]
  },
  {
   "cell_type": "code",
   "execution_count": null,
   "id": "ba5fbf61",
   "metadata": {},
   "outputs": [],
   "source": [
    "# Presenting the results\n",
    "plt.plot(history.history['accuracy'], label='accuracy')\n",
    "#plt.plot(history.history['validation_accuracy'], label='validation_accuracy')\n",
    "plt.xlabel('Epoch')\n",
    "plt.ylabel('Accuracy')\n",
    "plt.ylim([0, 1])\n",
    "plt.legend(loc='upper right')\n",
    "test_loss, test_acc = model.evaluate(validation_images)\n"
   ]
  },
  {
   "cell_type": "code",
   "execution_count": null,
   "id": "5b9c6ef7",
   "metadata": {},
   "outputs": [],
   "source": [
    "# Presenting the results\n",
    "print('Accuracy', test_acc)"
   ]
  }
 ],
 "metadata": {
  "kernelspec": {
   "display_name": "Python 3 (ipykernel)",
   "language": "python",
   "name": "python3"
  },
  "language_info": {
   "codemirror_mode": {
    "name": "ipython",
    "version": 3
   },
   "file_extension": ".py",
   "mimetype": "text/x-python",
   "name": "python",
   "nbconvert_exporter": "python",
   "pygments_lexer": "ipython3",
   "version": "3.8.11"
  }
 },
 "nbformat": 4,
 "nbformat_minor": 5
}
